{
 "cells": [
  {
   "cell_type": "markdown",
   "metadata": {},
   "source": [
    "# Final EDA and Modeling"
   ]
  },
  {
   "cell_type": "markdown",
   "metadata": {},
   "source": []
  },
  {
   "cell_type": "code",
   "execution_count": 25,
   "metadata": {},
   "outputs": [],
   "source": [
    "import pandas as pd\n",
    "import numpy as np\n",
    "import matplotlib.pyplot as plt\n",
    "import seaborn as sns\n",
    "from geopy.geocoders import Nominatim\n",
    "from sklearn.preprocessing import StandardScaler\n",
    "from sklearn.model_selection import train_test_split\n",
    "from sklearn.linear_model import LogisticRegression\n",
    "from sklearn import metrics\n",
    "from sklearn.ensemble import RandomForestClassifier\n",
    "from sklearn.ensemble import RandomForestClassifier\n",
    "from sklearn.tree import DecisionTreeClassifier\n",
    "from sklearn.neighbors import KNeighborsClassifier\n",
    "from sklearn.preprocessing import StandardScaler\n",
    "from sklearn.preprocessing import MinMaxScaler\n",
    "from sklearn import neighbors\n",
    "from sklearn.metrics import recall_score\n",
    "from sklearn.metrics import accuracy_score\n",
    "from sklearn.metrics import f1_score\n",
    "from sklearn.metrics import confusion_matrix\n",
    "from sklearn.model_selection import GridSearchCV\n",
    "from created_functions import remove_dups,reason_cleanup,to_binary\n",
    "\n",
    "pd.set_option('display.max_columns', 100)"
   ]
  },
  {
   "cell_type": "code",
   "execution_count": 26,
   "metadata": {},
   "outputs": [],
   "source": [
    "#loading dataframes\n",
    "df1=pd.read_excel(\"EDA_&_Modeling/Telco_customer_churn.xlsx\")\n",
    "df2=pd.read_excel(\"EDA_&_Modeling/Telco_customer_churn_status.xlsx\")\n",
    "df3=pd.read_excel(\"EDA_&_Modeling/Telco_customer_churn_services.xlsx\")\n",
    "df4=pd.read_excel(\"EDA_&_Modeling/Telco_customer_churn_demographics.xlsx\")"
   ]
  },
  {
   "cell_type": "code",
   "execution_count": 27,
   "metadata": {},
   "outputs": [],
   "source": [
    "#Mergin dataframes into one\n",
    "df1_2=pd.merge(df1, df2, left_on='CustomerID', right_on='Customer ID', how='left').drop('Customer ID', axis=1)\n",
    "df3_4=pd.merge(df3, df4, left_on='Customer ID', right_on='Customer ID', how='left')\n",
    "customer_df=pd.merge(df1_2, df3_4, left_on='CustomerID', right_on='Customer ID', how='left').drop('Customer ID', axis=1)"
   ]
  },
  {
   "cell_type": "code",
   "execution_count": 28,
   "metadata": {},
   "outputs": [],
   "source": [
    "#Cleaning up duplicates \n",
    "customer_df=customer_df.T.drop_duplicates().T\n",
    "customer_df.columns=[column.lower().strip(\"_x\").strip(\"_y\").replace(\" \",\"_\")for column in customer_df.columns] "
   ]
  },
  {
   "cell_type": "code",
   "execution_count": 29,
   "metadata": {},
   "outputs": [],
   "source": [
    "#Removing duplicates that were not caught by the previous function.\n",
    "remove_dup=[\"internet_service\",\"online_securit\",\"online_backup\",\"multiple_lines\",\"streaming_tv\",\"payment_method\",\"total_charges\",\"contract\",\"streaming_movies\",\"churn_reason\"]\n",
    "remove_dups(remove_dup,customer_df)"
   ]
  },
  {
   "cell_type": "code",
   "execution_count": 30,
   "metadata": {},
   "outputs": [],
   "source": [
    "#Dropping Redundant columns\n",
    "customer_df.drop([\"lat_long\",\"customerid\",\"churn_label\",\"count\",\"countr\",\"state\",\"quarter\",],axis=1,inplace=True)"
   ]
  },
  {
   "cell_type": "code",
   "execution_count": 31,
   "metadata": {},
   "outputs": [
    {
     "name": "stderr",
     "output_type": "stream",
     "text": [
      "<ipython-input-31-488fb0b675c0>:8: UserWarning: Pandas doesn't allow columns to be created via a new attribute name - see https://pandas.pydata.org/pandas-docs/stable/indexing.html#attribute-access\n",
      "  customer_df.tel_total_chargs=hold\n"
     ]
    }
   ],
   "source": [
    "#Cleaning missing values from \"total_charge\" column\n",
    "hold=[]\n",
    "for x in customer_df.index:\n",
    "    if type(customer_df.tel_total_charges[x])== str:\n",
    "        hold.append(0)\n",
    "    else:\n",
    "        hold.append(customer_df.tel_total_charges[x])\n",
    "customer_df.tel_total_chargs=hold\n",
    "#Filling NA values for churn reason\n",
    "customer_df.tel_churn_reason=customer_df.tel_churn_reason.fillna(\"No reason given\")"
   ]
  },
  {
   "cell_type": "code",
   "execution_count": 32,
   "metadata": {},
   "outputs": [],
   "source": [
    "#Binning age \n",
    "customer_df.age=pd.cut(x=customer_df['age'], bins=[10,20,30,40, 50,60,70,80], labels=[\"10\",\"20\",\"30\",\"40\", \"50\",\"60\",\"70\"])"
   ]
  },
  {
   "cell_type": "code",
   "execution_count": 33,
   "metadata": {},
   "outputs": [],
   "source": [
    "conditions=[\n",
    "    (customer_df[\"churn_categor\"].isna())& (customer_df[\"churn_value\"]==0),            \n",
    "    (customer_df[\"churn_categor\"].isna())& (customer_df[\"churn_value\"]==1),\n",
    "]\n",
    "choises=[\n",
    "    \"Not Churned\",\n",
    "    \"No Reason\",\n",
    "\n",
    "]\n",
    "customer_df.churn_categor=np.select(conditions,choises,default=customer_df.churn_categor)"
   ]
  },
  {
   "cell_type": "code",
   "execution_count": 35,
   "metadata": {},
   "outputs": [],
   "source": [
    "# Re categorizing the churn reason for better interpretation.\n",
    "customer_df[\"tel_churn_reason\"]=reason_cleanup(\"tel_churn_reason\",customer_df)"
   ]
  },
  {
   "cell_type": "code",
   "execution_count": 36,
   "metadata": {},
   "outputs": [],
   "source": [
    "#converting columns into binary\n",
    "col_to_bin=[\"senior_citizen\",\"partner\",\"dependents\",\"phone_service\",\"device_protection\",\"tech_support\",\"paperless_billing\",\"referred_a_friend\",\"device_protection_plan\",\"premium_tech_support\",\"streaming_music\",\"unlimited_data\",\"under_30\",\"tel_internet_service\",\"tel_online_securit\",\"tel_online_backup\",\"tel_multiple_lines\",\"tel_streaming_tv\",\"tel_streaming_movies\"]\n",
    "for x in col_to_bin:\n",
    "    to_binary(x,customer_df)"
   ]
  },
  {
   "cell_type": "code",
   "execution_count": null,
   "metadata": {},
   "outputs": [],
   "source": []
  },
  {
   "cell_type": "code",
   "execution_count": 37,
   "metadata": {},
   "outputs": [],
   "source": [
    "customer_df.drop([\"tel_churn_reason\",\"churn_categor\",\"customer_status\"],axis=1, inplace=True)"
   ]
  },
  {
   "cell_type": "code",
   "execution_count": 38,
   "metadata": {},
   "outputs": [],
   "source": [
    "customer_df=pd.get_dummies(customer_df,columns=[\"cit\",\"zip_code\",\"latitude\",\"longitude\",\"gender\",\"offer\",\"internet_type\",\"age\",\"tel_payment_method\",\"tel_contract\"],drop_first=True)"
   ]
  },
  {
   "cell_type": "code",
   "execution_count": 39,
   "metadata": {},
   "outputs": [],
   "source": [
    "customer_df=customer_df.astype(\"float\")"
   ]
  },
  {
   "cell_type": "code",
   "execution_count": 42,
   "metadata": {},
   "outputs": [],
   "source": [
    "#Splitting the data into X and Y\n",
    "y=customer_df[\"churn_value\"]\n",
    "X=customer_df[customer_df.columns[customer_df.columns!=\"churn_value\"]]"
   ]
  },
  {
   "cell_type": "code",
   "execution_count": 43,
   "metadata": {},
   "outputs": [],
   "source": [
    "X_train,X_test,y_train,y_test=train_test_split(X,y,random_state=2020, test_size=0.2)"
   ]
  },
  {
   "cell_type": "code",
   "execution_count": 44,
   "metadata": {},
   "outputs": [],
   "source": [
    "#Choosing Parameter for the model.\n",
    "params={\n",
    "    \"penalty\":[\"l1\",\"l2\"],\n",
    "    \"class_weight\":[\"balanced\"],\n",
    "    \"max_iter\":range(100,5000,100),\n",
    "    \"warm_start\":[\"True\",\"False\"]   \n",
    "}"
   ]
  },
  {
   "cell_type": "code",
   "execution_count": 45,
   "metadata": {},
   "outputs": [],
   "source": [
    "# using vanilla Logistic Regression model and keeping the Random state for continuity and reproducibility\n",
    "log_reg=LogisticRegression(random_state=40)\n",
    "grid_lg=GridSearchCV(log_reg, params, cv=10, scoring=\"f1\", verbose=1, n_jobs=-1)"
   ]
  },
  {
   "cell_type": "code",
   "execution_count": null,
   "metadata": {},
   "outputs": [
    {
     "name": "stdout",
     "output_type": "stream",
     "text": [
      "Fitting 10 folds for each of 196 candidates, totalling 1960 fits\n"
     ]
    },
    {
     "name": "stderr",
     "output_type": "stream",
     "text": [
      "[Parallel(n_jobs=-1)]: Using backend LokyBackend with 8 concurrent workers.\n",
      "[Parallel(n_jobs=-1)]: Done  34 tasks      | elapsed:  1.1min\n",
      "[Parallel(n_jobs=-1)]: Done 184 tasks      | elapsed: 14.0min\n",
      "[Parallel(n_jobs=-1)]: Done 434 tasks      | elapsed: 73.9min\n"
     ]
    }
   ],
   "source": [
    "grid_lg.fit(X_train,y_train)"
   ]
  },
  {
   "cell_type": "code",
   "execution_count": null,
   "metadata": {},
   "outputs": [],
   "source": [
    "print(\"Best Gridsearch Score: {}\".format(grid_lg.best_score_))\n",
    "print(\"Best Parameters: {}\".format(grid_lg.best_params_))\n",
    "print(\"Best Estimators: {}\".format(grid_lg.best_estimator_))"
   ]
  },
  {
   "cell_type": "code",
   "execution_count": null,
   "metadata": {},
   "outputs": [],
   "source": [
    "gs_pred=grid_lg.best_estimator_.predict(X_test)"
   ]
  },
  {
   "cell_type": "code",
   "execution_count": null,
   "metadata": {},
   "outputs": [],
   "source": [
    "gs_acc=metrics.recall_score(y_test, gs_pred)\n",
    "gs_rec=metrics.accuracy_score(y_test, gs_pred)\n",
    "gs_f1=metrics.f1_score(y_test,gs_pred)"
   ]
  },
  {
   "cell_type": "code",
   "execution_count": null,
   "metadata": {},
   "outputs": [],
   "source": [
    "print('GridSearch Logistic Regression Accuracy: {}'.format(gs_acc))\n",
    "print('GridSearch Logistic Regression Recall: {}'.format(gs_rec))\n",
    "print('GridSearch Logistic Regression F1: {}'.format(gs_f1))"
   ]
  },
  {
   "cell_type": "code",
   "execution_count": null,
   "metadata": {},
   "outputs": [],
   "source": [
    "pred = confusion_matrix(y_test, gs_pred)\n",
    "plt.figure(figsize=(8,8))\n",
    "\n",
    "sns.heatmap(pred.T, square=True, annot=True, fmt='d',cmap=\"PuBu\", cbar=False,\n",
    "            xticklabels=['Stayed', 'Churned'], yticklabels=['Stayed', 'Churned'])\n",
    "sns.set(font_scale=2)\n",
    "plt.xlabel('True Values',fontsize=20)\n",
    "plt.ylabel('Predicted Values',fontsize=20);\n",
    "plt.savefig('/Users/carlosruiz/Desktop/Mod_5_project/Images/matrix', dpi=300)"
   ]
  },
  {
   "cell_type": "code",
   "execution_count": null,
   "metadata": {},
   "outputs": [],
   "source": [
    "coef=pd.DataFrame(zip(X_train.columns, np.transpose(grid_lg.best_estimator_.coef_[0])), columns=['features', 'coef'])\n",
    "coef.iloc[list(coef.coef.sort_values(ascending=False).index)].reset_index(drop=True,inplace=True)"
   ]
  },
  {
   "cell_type": "code",
   "execution_count": null,
   "metadata": {},
   "outputs": [],
   "source": []
  },
  {
   "cell_type": "code",
   "execution_count": null,
   "metadata": {},
   "outputs": [],
   "source": []
  },
  {
   "cell_type": "code",
   "execution_count": null,
   "metadata": {},
   "outputs": [],
   "source": []
  },
  {
   "cell_type": "code",
   "execution_count": null,
   "metadata": {},
   "outputs": [],
   "source": []
  },
  {
   "cell_type": "code",
   "execution_count": null,
   "metadata": {},
   "outputs": [],
   "source": []
  },
  {
   "cell_type": "code",
   "execution_count": null,
   "metadata": {},
   "outputs": [],
   "source": []
  },
  {
   "cell_type": "code",
   "execution_count": null,
   "metadata": {},
   "outputs": [],
   "source": []
  },
  {
   "cell_type": "code",
   "execution_count": null,
   "metadata": {},
   "outputs": [],
   "source": []
  },
  {
   "cell_type": "code",
   "execution_count": null,
   "metadata": {},
   "outputs": [],
   "source": []
  },
  {
   "cell_type": "code",
   "execution_count": null,
   "metadata": {},
   "outputs": [],
   "source": []
  },
  {
   "cell_type": "code",
   "execution_count": null,
   "metadata": {},
   "outputs": [],
   "source": []
  },
  {
   "cell_type": "code",
   "execution_count": null,
   "metadata": {},
   "outputs": [],
   "source": []
  },
  {
   "cell_type": "code",
   "execution_count": null,
   "metadata": {},
   "outputs": [],
   "source": []
  },
  {
   "cell_type": "code",
   "execution_count": null,
   "metadata": {},
   "outputs": [],
   "source": []
  },
  {
   "cell_type": "code",
   "execution_count": null,
   "metadata": {},
   "outputs": [],
   "source": []
  },
  {
   "cell_type": "code",
   "execution_count": null,
   "metadata": {},
   "outputs": [],
   "source": []
  },
  {
   "cell_type": "code",
   "execution_count": null,
   "metadata": {},
   "outputs": [],
   "source": []
  },
  {
   "cell_type": "code",
   "execution_count": null,
   "metadata": {},
   "outputs": [],
   "source": []
  },
  {
   "cell_type": "code",
   "execution_count": null,
   "metadata": {},
   "outputs": [],
   "source": []
  },
  {
   "cell_type": "code",
   "execution_count": null,
   "metadata": {},
   "outputs": [],
   "source": []
  },
  {
   "cell_type": "code",
   "execution_count": null,
   "metadata": {},
   "outputs": [],
   "source": []
  },
  {
   "cell_type": "code",
   "execution_count": null,
   "metadata": {},
   "outputs": [],
   "source": []
  },
  {
   "cell_type": "code",
   "execution_count": null,
   "metadata": {},
   "outputs": [],
   "source": []
  },
  {
   "cell_type": "code",
   "execution_count": null,
   "metadata": {},
   "outputs": [],
   "source": []
  },
  {
   "cell_type": "code",
   "execution_count": null,
   "metadata": {},
   "outputs": [],
   "source": []
  },
  {
   "cell_type": "code",
   "execution_count": null,
   "metadata": {},
   "outputs": [],
   "source": []
  }
 ],
 "metadata": {
  "kernelspec": {
   "display_name": "Python 3",
   "language": "python",
   "name": "python3"
  },
  "language_info": {
   "codemirror_mode": {
    "name": "ipython",
    "version": 3
   },
   "file_extension": ".py",
   "mimetype": "text/x-python",
   "name": "python",
   "nbconvert_exporter": "python",
   "pygments_lexer": "ipython3",
   "version": "3.8.3"
  }
 },
 "nbformat": 4,
 "nbformat_minor": 4
}

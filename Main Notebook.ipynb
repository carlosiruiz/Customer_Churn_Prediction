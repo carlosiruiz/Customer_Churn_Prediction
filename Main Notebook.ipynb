{
 "cells": [
  {
   "cell_type": "markdown",
   "metadata": {},
   "source": [
    "# Final EDA and Modeling"
   ]
  },
  {
   "cell_type": "markdown",
   "metadata": {},
   "source": []
  },
  {
   "cell_type": "code",
   "execution_count": 1,
   "metadata": {},
   "outputs": [],
   "source": [
    "import pandas as pd\n",
    "import numpy as np\n",
    "import matplotlib.pyplot as plt\n",
    "import seaborn as sns\n",
    "from geopy.geocoders import Nominatim\n",
    "from sklearn.preprocessing import StandardScaler\n",
    "from sklearn.model_selection import train_test_split\n",
    "from sklearn.linear_model import LogisticRegression\n",
    "from sklearn import metrics\n",
    "from sklearn.ensemble import RandomForestClassifier\n",
    "from sklearn.ensemble import RandomForestClassifier\n",
    "from sklearn.tree import DecisionTreeClassifier\n",
    "from sklearn.neighbors import KNeighborsClassifier\n",
    "from sklearn.preprocessing import StandardScaler\n",
    "from sklearn.preprocessing import MinMaxScaler\n",
    "from sklearn import neighbors\n",
    "from sklearn.metrics import recall_score\n",
    "from sklearn.metrics import accuracy_score\n",
    "from sklearn.metrics import f1_score\n",
    "from sklearn.metrics import confusion_matrix\n",
    "from sklearn.model_selection import GridSearchCV\n",
    "\n",
    "pd.set_option('display.max_columns', 100)"
   ]
  },
  {
   "cell_type": "code",
   "execution_count": 2,
   "metadata": {},
   "outputs": [],
   "source": [
    "#loading dataframes\n",
    "df1=pd.read_excel(\"EDA_&_Modeling/Telco_customer_churn.xlsx\")\n",
    "df2=pd.read_excel(\"EDA_&_Modeling/Telco_customer_churn_status.xlsx\")\n",
    "df3=pd.read_excel(\"EDA_&_Modeling/Telco_customer_churn_services.xlsx\")\n",
    "df4=pd.read_excel(\"EDA_&_Modeling/Telco_customer_churn_demographics.xlsx\")"
   ]
  },
  {
   "cell_type": "code",
   "execution_count": 3,
   "metadata": {},
   "outputs": [],
   "source": [
    "#Mergin dataframes into one\n",
    "df1_2=pd.merge(df1, df2, left_on='CustomerID', right_on='Customer ID', how='left').drop('Customer ID', axis=1)\n",
    "df3_4=pd.merge(df3, df4, left_on='Customer ID', right_on='Customer ID', how='left')\n",
    "customer_df=pd.merge(df1_2, df3_4, left_on='CustomerID', right_on='Customer ID', how='left').drop('Customer ID', axis=1)"
   ]
  },
  {
   "cell_type": "code",
   "execution_count": 4,
   "metadata": {},
   "outputs": [],
   "source": [
    "#Cleaning up duplicates \n",
    "customer_df=customer_df.T.drop_duplicates().T\n",
    "customer_df.columns=[column.lower().strip(\"_x\").strip(\"_y\").replace(\" \",\"_\")for column in customer_df.columns]  \n",
    "customer_df[\"internet_services\"]=customer_df[\"internet_service\"].iloc[:,1:2]\n",
    "customer_df[\"online_security\"]=customer_df[\"online_securit\"].iloc[:,1:2]\n",
    "customer_df[\"online_backup_srvc\"]=customer_df[\"online_backup\"].iloc[:,1:2]\n",
    "customer_df[\"multiple_line\"]=customer_df[\"multiple_lines\"].iloc[:,1:2]\n",
    "customer_df[\"streaming_tv_srvc\"]=customer_df[\"streaming_tv\"].iloc[:,1:2]\n",
    "customer_df[\"payment_methods\"]=customer_df[\"payment_method\"].iloc[:,:1]\n",
    "customer_df[\"total_charge\"]=customer_df[\"total_charges\"].iloc[:,:1]\n",
    "customer_df[\"contracts\"]=customer_df[\"contract\"].iloc[:,1:2]\n",
    "customer_df[\"churn_reasons\"]=customer_df[\"churn_reason\"].iloc[:,1:2]\n",
    "customer_df[\"streaming_movies_srvc\"]=customer_df[\"streaming_movies\"].iloc[:,1:2]"
   ]
  },
  {
   "cell_type": "code",
   "execution_count": 5,
   "metadata": {},
   "outputs": [],
   "source": [
    "#Dropping Redundant columns\n",
    "customer_df.drop([\"total_charges\",\"churn_score\",\"churn_reason\",\"lat_long\",\"customerid\",\"payment_method\",\"contract\",\"churn_label\",\"count\",\"countr\",\"state\",\"quarter\",\"internet_service\",\"online_securit\",\"online_backup\",\"multiple_lines\",\"streaming_tv\",\"streaming_movies\"],axis=1,inplace=True)"
   ]
  },
  {
   "cell_type": "code",
   "execution_count": 6,
   "metadata": {},
   "outputs": [],
   "source": [
    "#Cleaning missing values from \"total_charge\" column\n",
    "hold=[]\n",
    "for x in customer_df.index:\n",
    "    if type(customer_df.total_charge[x])== str:\n",
    "        hold.append(0)\n",
    "    else:\n",
    "        hold.append(customer_df.total_charge[x])\n",
    "customer_df.total_charge=hold"
   ]
  },
  {
   "cell_type": "code",
   "execution_count": 7,
   "metadata": {},
   "outputs": [],
   "source": [
    "#Binning age \n",
    "customer_df.age=pd.cut(x=customer_df['age'], bins=[10,20,30,40, 50,60,70,80], labels=[\"10\",\"20\",\"30\",\"40\", \"50\",\"60\",\"70\"])"
   ]
  },
  {
   "cell_type": "code",
   "execution_count": 8,
   "metadata": {},
   "outputs": [],
   "source": [
    "#Filling NA values for churn reason\n",
    "customer_df.churn_reasons=customer_df.churn_reasons.fillna(\"No reason given\")"
   ]
  },
  {
   "cell_type": "code",
   "execution_count": 9,
   "metadata": {},
   "outputs": [],
   "source": [
    "conditions=[\n",
    "    (customer_df[\"churn_categor\"].isna())& (customer_df[\"churn_value\"]==0),            \n",
    "    (customer_df[\"churn_categor\"].isna())& (customer_df[\"churn_value\"]==1),\n",
    "]\n",
    "choises=[\n",
    "    \"Not Churned\",\n",
    "    \"No Reason\",\n",
    "\n",
    "]\n",
    "customer_df.churn_categor=np.select(conditions,choises,default=customer_df.churn_categor)"
   ]
  },
  {
   "cell_type": "code",
   "execution_count": 10,
   "metadata": {},
   "outputs": [],
   "source": [
    " def to_binary(column):\n",
    "    \"\"\"\n",
    "    Takes in a column and turns its value from a Yes or No to a binary. \n",
    "    \"\"\"\n",
    "    conditions=[\n",
    "        (customer_df[column].str.lower()=='yes'),            \n",
    "        (customer_df[column].str.lower()=='no'),\n",
    "    ]\n",
    "    choises=[\n",
    "        1,\n",
    "        0,\n",
    "\n",
    "    ]\n",
    "    customer_df[column]=np.select(conditions,choises,default=0)"
   ]
  },
  {
   "cell_type": "code",
   "execution_count": 11,
   "metadata": {},
   "outputs": [],
   "source": [
    "#converting columns into binary\n",
    "col_to_bin=[\"senior_citizen\",\"device_protection_plan\",\"partner\",\"dependents\",\"phone_service\",\"paperless_billing\",\"referred_a_friend\",\"premium_tech_support\",\"streaming_music\",\"unlimited_data\",\"under_30\",\"online_security\",\"multiple_line\",\"online_backup_srvc\",\"streaming_tv_srvc\",\"streaming_movies_srvc\",\"internet_services\",\"tech_support\",\"device_protection\"]\n",
    "for x in col_to_bin:\n",
    "    to_binary(x)"
   ]
  },
  {
   "cell_type": "code",
   "execution_count": 12,
   "metadata": {},
   "outputs": [],
   "source": [
    "customer_df=pd.get_dummies(customer_df,columns=[\"cit\",\"customer_status\",\"churn_categor\",\"age\",\"zip_code\",\"gender\",\"churn_reasons\",\"offer\",\"internet_type\",\"contracts\",\"payment_methods\",\"number_of_dependents\"],drop_first=True)"
   ]
  },
  {
   "cell_type": "code",
   "execution_count": 13,
   "metadata": {},
   "outputs": [],
   "source": [
    "df=customer_df.astype(\"float\")"
   ]
  },
  {
   "cell_type": "code",
   "execution_count": 14,
   "metadata": {},
   "outputs": [],
   "source": [
    "#Splitting the data into X and Y\n",
    "y=df[\"churn_value\"]\n",
    "X=df[df.columns[df.columns!=\"churn_value\"]]"
   ]
  },
  {
   "cell_type": "code",
   "execution_count": 15,
   "metadata": {},
   "outputs": [],
   "source": [
    "X_train,X_test,y_train,y_test=train_test_split(X,y,random_state=2020, test_size=0.2)"
   ]
  },
  {
   "cell_type": "code",
   "execution_count": 16,
   "metadata": {},
   "outputs": [],
   "source": [
    "params2={\n",
    "    \"max_depth\":range(5,30,5),\n",
    "    \"min_samples_leaf\":range(1,5,1),\n",
    "    \"min_samples_split\":range(1,5,1),\n",
    "    \"bootstrap\":[\"True\",\"False\"],\n",
    "    \"class_weight\":[\"None\",\"balanced\"]  \n",
    "}"
   ]
  },
  {
   "cell_type": "code",
   "execution_count": 17,
   "metadata": {},
   "outputs": [],
   "source": [
    "RF=RandomForestClassifier(random_state=40)\n",
    "grid_rf=GridSearchCV(RF, params2, cv=10, scoring=\"f1\", verbose=1, n_jobs=-1)"
   ]
  },
  {
   "cell_type": "code",
   "execution_count": 18,
   "metadata": {},
   "outputs": [
    {
     "name": "stdout",
     "output_type": "stream",
     "text": [
      "Fitting 10 folds for each of 320 candidates, totalling 3200 fits\n"
     ]
    },
    {
     "name": "stderr",
     "output_type": "stream",
     "text": [
      "[Parallel(n_jobs=-1)]: Using backend LokyBackend with 8 concurrent workers.\n",
      "[Parallel(n_jobs=-1)]: Done  34 tasks      | elapsed:    5.3s\n",
      "[Parallel(n_jobs=-1)]: Done 184 tasks      | elapsed:   11.2s\n",
      "[Parallel(n_jobs=-1)]: Done 434 tasks      | elapsed:   21.1s\n",
      "[Parallel(n_jobs=-1)]: Done 784 tasks      | elapsed:   35.3s\n",
      "[Parallel(n_jobs=-1)]: Done 1234 tasks      | elapsed:  2.4min\n",
      "[Parallel(n_jobs=-1)]: Done 1784 tasks      | elapsed:  5.1min\n",
      "[Parallel(n_jobs=-1)]: Done 2434 tasks      | elapsed:  5.9min\n",
      "[Parallel(n_jobs=-1)]: Done 3184 tasks      | elapsed: 10.6min\n",
      "[Parallel(n_jobs=-1)]: Done 3200 out of 3200 | elapsed: 10.7min finished\n"
     ]
    },
    {
     "data": {
      "text/plain": [
       "GridSearchCV(cv=10, estimator=RandomForestClassifier(random_state=40),\n",
       "             n_jobs=-1,\n",
       "             param_grid={'bootstrap': ['True', 'False'],\n",
       "                         'class_weight': ['None', 'balanced'],\n",
       "                         'max_depth': range(5, 30, 5),\n",
       "                         'min_samples_leaf': range(1, 5),\n",
       "                         'min_samples_split': range(1, 5)},\n",
       "             scoring='f1', verbose=1)"
      ]
     },
     "execution_count": 18,
     "metadata": {},
     "output_type": "execute_result"
    }
   ],
   "source": [
    "grid_rf.fit(X_train,y_train)"
   ]
  },
  {
   "cell_type": "code",
   "execution_count": 19,
   "metadata": {},
   "outputs": [
    {
     "name": "stdout",
     "output_type": "stream",
     "text": [
      "Best Gridsearch Score: 1.0\n",
      "Best Parameters: {'bootstrap': 'True', 'class_weight': 'balanced', 'max_depth': 10, 'min_samples_leaf': 1, 'min_samples_split': 2}\n",
      "Best Estimators: RandomForestClassifier(bootstrap='True', class_weight='balanced', max_depth=10,\n",
      "                       random_state=40)\n"
     ]
    }
   ],
   "source": [
    "print(\"Best Gridsearch Score: {}\".format(grid_rf.best_score_))\n",
    "print(\"Best Parameters: {}\".format(grid_rf.best_params_))\n",
    "print(\"Best Estimators: {}\".format(grid_rf.best_estimator_))"
   ]
  },
  {
   "cell_type": "code",
   "execution_count": 20,
   "metadata": {},
   "outputs": [],
   "source": [
    "grid_rf_pred=grid_rf.best_estimator_.predict(X_test)"
   ]
  },
  {
   "cell_type": "code",
   "execution_count": 21,
   "metadata": {},
   "outputs": [],
   "source": [
    "gs_acc2=metrics.recall_score(y_test, grid_rf_pred)\n",
    "gs_rec2=metrics.accuracy_score(y_test, grid_rf_pred)\n",
    "gs_f12=metrics.f1_score(y_test,grid_rf_pred)"
   ]
  },
  {
   "cell_type": "code",
   "execution_count": 22,
   "metadata": {},
   "outputs": [
    {
     "name": "stdout",
     "output_type": "stream",
     "text": [
      "GridSearch Logistic Regression Accuracy: 1.0\n",
      "GridSearch Logistic Regression Recall: 1.0\n",
      "GridSearch Logistic Regression F1: 1.0\n"
     ]
    }
   ],
   "source": [
    "print('GridSearch Logistic Regression Accuracy: {}'.format(gs_acc2))\n",
    "print('GridSearch Logistic Regression Recall: {}'.format(gs_rec2))\n",
    "print('GridSearch Logistic Regression F1: {}'.format(gs_f12))"
   ]
  },
  {
   "cell_type": "code",
   "execution_count": null,
   "metadata": {},
   "outputs": [],
   "source": []
  },
  {
   "cell_type": "code",
   "execution_count": null,
   "metadata": {},
   "outputs": [],
   "source": []
  },
  {
   "cell_type": "code",
   "execution_count": null,
   "metadata": {},
   "outputs": [],
   "source": []
  },
  {
   "cell_type": "code",
   "execution_count": null,
   "metadata": {},
   "outputs": [],
   "source": []
  },
  {
   "cell_type": "code",
   "execution_count": null,
   "metadata": {},
   "outputs": [],
   "source": []
  },
  {
   "cell_type": "code",
   "execution_count": null,
   "metadata": {},
   "outputs": [],
   "source": []
  },
  {
   "cell_type": "code",
   "execution_count": null,
   "metadata": {},
   "outputs": [],
   "source": []
  },
  {
   "cell_type": "code",
   "execution_count": null,
   "metadata": {},
   "outputs": [],
   "source": []
  },
  {
   "cell_type": "code",
   "execution_count": null,
   "metadata": {},
   "outputs": [],
   "source": []
  },
  {
   "cell_type": "code",
   "execution_count": null,
   "metadata": {},
   "outputs": [],
   "source": []
  },
  {
   "cell_type": "code",
   "execution_count": null,
   "metadata": {},
   "outputs": [],
   "source": []
  },
  {
   "cell_type": "code",
   "execution_count": null,
   "metadata": {},
   "outputs": [],
   "source": []
  },
  {
   "cell_type": "code",
   "execution_count": null,
   "metadata": {},
   "outputs": [],
   "source": []
  },
  {
   "cell_type": "code",
   "execution_count": null,
   "metadata": {},
   "outputs": [],
   "source": []
  },
  {
   "cell_type": "code",
   "execution_count": null,
   "metadata": {},
   "outputs": [],
   "source": []
  },
  {
   "cell_type": "code",
   "execution_count": null,
   "metadata": {},
   "outputs": [],
   "source": []
  },
  {
   "cell_type": "code",
   "execution_count": null,
   "metadata": {},
   "outputs": [],
   "source": []
  },
  {
   "cell_type": "code",
   "execution_count": null,
   "metadata": {},
   "outputs": [],
   "source": []
  },
  {
   "cell_type": "code",
   "execution_count": null,
   "metadata": {},
   "outputs": [],
   "source": []
  },
  {
   "cell_type": "code",
   "execution_count": null,
   "metadata": {},
   "outputs": [],
   "source": []
  },
  {
   "cell_type": "code",
   "execution_count": null,
   "metadata": {},
   "outputs": [],
   "source": []
  },
  {
   "cell_type": "code",
   "execution_count": null,
   "metadata": {},
   "outputs": [],
   "source": []
  },
  {
   "cell_type": "code",
   "execution_count": null,
   "metadata": {},
   "outputs": [],
   "source": []
  },
  {
   "cell_type": "code",
   "execution_count": null,
   "metadata": {},
   "outputs": [],
   "source": []
  },
  {
   "cell_type": "code",
   "execution_count": null,
   "metadata": {},
   "outputs": [],
   "source": []
  },
  {
   "cell_type": "code",
   "execution_count": null,
   "metadata": {},
   "outputs": [],
   "source": []
  },
  {
   "cell_type": "code",
   "execution_count": null,
   "metadata": {},
   "outputs": [],
   "source": []
  },
  {
   "cell_type": "code",
   "execution_count": null,
   "metadata": {},
   "outputs": [],
   "source": []
  },
  {
   "cell_type": "code",
   "execution_count": null,
   "metadata": {},
   "outputs": [],
   "source": []
  },
  {
   "cell_type": "code",
   "execution_count": null,
   "metadata": {},
   "outputs": [],
   "source": []
  },
  {
   "cell_type": "code",
   "execution_count": null,
   "metadata": {},
   "outputs": [],
   "source": []
  },
  {
   "cell_type": "code",
   "execution_count": null,
   "metadata": {},
   "outputs": [],
   "source": []
  },
  {
   "cell_type": "code",
   "execution_count": null,
   "metadata": {},
   "outputs": [],
   "source": []
  },
  {
   "cell_type": "code",
   "execution_count": null,
   "metadata": {},
   "outputs": [],
   "source": []
  },
  {
   "cell_type": "code",
   "execution_count": null,
   "metadata": {},
   "outputs": [],
   "source": []
  },
  {
   "cell_type": "code",
   "execution_count": null,
   "metadata": {},
   "outputs": [],
   "source": []
  }
 ],
 "metadata": {
  "kernelspec": {
   "display_name": "Python 3",
   "language": "python",
   "name": "python3"
  },
  "language_info": {
   "codemirror_mode": {
    "name": "ipython",
    "version": 3
   },
   "file_extension": ".py",
   "mimetype": "text/x-python",
   "name": "python",
   "nbconvert_exporter": "python",
   "pygments_lexer": "ipython3",
   "version": "3.8.3"
  }
 },
 "nbformat": 4,
 "nbformat_minor": 4
}

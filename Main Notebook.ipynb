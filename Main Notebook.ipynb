{
 "cells": [
  {
   "cell_type": "markdown",
   "metadata": {},
   "source": [
    "# Final EDA and Modeling"
   ]
  },
  {
   "cell_type": "markdown",
   "metadata": {},
   "source": [
    "In this trying times, now more than ever, retaining a customer base for a telecommuncations company and maintaining revenue it is of importance. The goal of this project is to help telecomunications companies predict customer churn and maintain revenue. \n",
    "\n",
    "With this goal, Telecom Custommer Churn Data was collected from IBM Business Analytics, with data of 7045 customers, all based in California. This data is from the third quarter of the year and contain features such as Churn Reason, Revenue, Total Charges, Type of Contract and more. "
   ]
  },
  {
   "cell_type": "markdown",
   "metadata": {},
   "source": [
    "## EDA"
   ]
  },
  {
   "cell_type": "code",
   "execution_count": 1,
   "metadata": {},
   "outputs": [],
   "source": [
    "import pandas as pd\n",
    "import numpy as np\n",
    "import matplotlib.pyplot as plt\n",
    "import seaborn as sns\n",
    "from geopy.geocoders import Nominatim\n",
    "from sklearn.preprocessing import StandardScaler\n",
    "from sklearn.model_selection import train_test_split\n",
    "from sklearn.linear_model import LogisticRegression\n",
    "from sklearn import metrics\n",
    "from sklearn.ensemble import RandomForestClassifier\n",
    "from sklearn.ensemble import RandomForestClassifier\n",
    "from sklearn.tree import DecisionTreeClassifier\n",
    "from sklearn.neighbors import KNeighborsClassifier\n",
    "from sklearn.preprocessing import StandardScaler\n",
    "from sklearn.preprocessing import MinMaxScaler\n",
    "from sklearn import neighbors\n",
    "from sklearn.metrics import recall_score\n",
    "from sklearn.metrics import accuracy_score\n",
    "from sklearn.metrics import f1_score\n",
    "from sklearn.metrics import confusion_matrix\n",
    "from sklearn.model_selection import GridSearchCV\n",
    "from created_functions import remove_dups,reason_cleanup,to_binary\n",
    "import warnings\n",
    "warnings.filterwarnings('ignore')\n",
    "\n",
    "pd.set_option('display.max_columns', 100)"
   ]
  },
  {
   "cell_type": "code",
   "execution_count": 2,
   "metadata": {},
   "outputs": [],
   "source": [
    "#loading dataframes\n",
    "df1=pd.read_excel(\"EDA_&_Modeling/Telco_customer_churn.xlsx\")\n",
    "df2=pd.read_excel(\"EDA_&_Modeling/Telco_customer_churn_status.xlsx\")\n",
    "df3=pd.read_excel(\"EDA_&_Modeling/Telco_customer_churn_services.xlsx\")\n",
    "df4=pd.read_excel(\"EDA_&_Modeling/Telco_customer_churn_demographics.xlsx\")"
   ]
  },
  {
   "cell_type": "code",
   "execution_count": 3,
   "metadata": {},
   "outputs": [],
   "source": [
    "#Mergin dataframes into one\n",
    "df1_2=pd.merge(df1, df2, left_on='CustomerID', right_on='Customer ID', how='left').drop('Customer ID', axis=1)\n",
    "df3_4=pd.merge(df3, df4, left_on='Customer ID', right_on='Customer ID', how='left')\n",
    "customer_df=pd.merge(df1_2, df3_4, left_on='CustomerID', right_on='Customer ID', how='left').drop('Customer ID', axis=1)"
   ]
  },
  {
   "cell_type": "code",
   "execution_count": 4,
   "metadata": {},
   "outputs": [
    {
     "data": {
      "text/html": [
       "<div>\n",
       "<style scoped>\n",
       "    .dataframe tbody tr th:only-of-type {\n",
       "        vertical-align: middle;\n",
       "    }\n",
       "\n",
       "    .dataframe tbody tr th {\n",
       "        vertical-align: top;\n",
       "    }\n",
       "\n",
       "    .dataframe thead th {\n",
       "        text-align: right;\n",
       "    }\n",
       "</style>\n",
       "<table border=\"1\" class=\"dataframe\">\n",
       "  <thead>\n",
       "    <tr style=\"text-align: right;\">\n",
       "      <th></th>\n",
       "      <th>CustomerID</th>\n",
       "      <th>Count_x_x</th>\n",
       "      <th>Country</th>\n",
       "      <th>State</th>\n",
       "      <th>City</th>\n",
       "      <th>Zip Code</th>\n",
       "      <th>Lat Long</th>\n",
       "      <th>Latitude</th>\n",
       "      <th>Longitude</th>\n",
       "      <th>Gender_x</th>\n",
       "      <th>Senior Citizen_x</th>\n",
       "      <th>Partner</th>\n",
       "      <th>Dependents_x</th>\n",
       "      <th>Tenure Months</th>\n",
       "      <th>Phone Service_x</th>\n",
       "      <th>Multiple Lines_x</th>\n",
       "      <th>Internet Service_x</th>\n",
       "      <th>Online Security_x</th>\n",
       "      <th>Online Backup_x</th>\n",
       "      <th>Device Protection</th>\n",
       "      <th>Tech Support</th>\n",
       "      <th>Streaming TV_x</th>\n",
       "      <th>Streaming Movies_x</th>\n",
       "      <th>Contract_x</th>\n",
       "      <th>Paperless Billing_x</th>\n",
       "      <th>Payment Method_x</th>\n",
       "      <th>Monthly Charges</th>\n",
       "      <th>Total Charges_x</th>\n",
       "      <th>Churn Label_x</th>\n",
       "      <th>Churn Value_x</th>\n",
       "      <th>Churn Score_x</th>\n",
       "      <th>CLTV_x</th>\n",
       "      <th>Churn Reason_x</th>\n",
       "      <th>Count_y_x</th>\n",
       "      <th>Quarter_x</th>\n",
       "      <th>Satisfaction Score</th>\n",
       "      <th>Customer Status</th>\n",
       "      <th>Churn Label_y</th>\n",
       "      <th>Churn Value_y</th>\n",
       "      <th>Churn Score_y</th>\n",
       "      <th>CLTV_y</th>\n",
       "      <th>Churn Category</th>\n",
       "      <th>Churn Reason_y</th>\n",
       "      <th>Count_x_y</th>\n",
       "      <th>Quarter_y</th>\n",
       "      <th>Referred a Friend</th>\n",
       "      <th>Number of Referrals</th>\n",
       "      <th>Tenure in Months</th>\n",
       "      <th>Offer</th>\n",
       "      <th>Phone Service_y</th>\n",
       "      <th>Avg Monthly Long Distance Charges</th>\n",
       "      <th>Multiple Lines_y</th>\n",
       "      <th>Internet Service_y</th>\n",
       "      <th>Internet Type</th>\n",
       "      <th>Avg Monthly GB Download</th>\n",
       "      <th>Online Security_y</th>\n",
       "      <th>Online Backup_y</th>\n",
       "      <th>Device Protection Plan</th>\n",
       "      <th>Premium Tech Support</th>\n",
       "      <th>Streaming TV_y</th>\n",
       "      <th>Streaming Movies_y</th>\n",
       "      <th>Streaming Music</th>\n",
       "      <th>Unlimited Data</th>\n",
       "      <th>Contract_y</th>\n",
       "      <th>Paperless Billing_y</th>\n",
       "      <th>Payment Method_y</th>\n",
       "      <th>Monthly Charge</th>\n",
       "      <th>Total Charges_y</th>\n",
       "      <th>Total Refunds</th>\n",
       "      <th>Total Extra Data Charges</th>\n",
       "      <th>Total Long Distance Charges</th>\n",
       "      <th>Total Revenue</th>\n",
       "      <th>Count_y_y</th>\n",
       "      <th>Gender_y</th>\n",
       "      <th>Age</th>\n",
       "      <th>Under 30</th>\n",
       "      <th>Senior Citizen_y</th>\n",
       "      <th>Married</th>\n",
       "      <th>Dependents_y</th>\n",
       "      <th>Number of Dependents</th>\n",
       "    </tr>\n",
       "  </thead>\n",
       "  <tbody>\n",
       "    <tr>\n",
       "      <th>0</th>\n",
       "      <td>3668-QPYBK</td>\n",
       "      <td>1</td>\n",
       "      <td>United States</td>\n",
       "      <td>California</td>\n",
       "      <td>Los Angeles</td>\n",
       "      <td>90003</td>\n",
       "      <td>33.964131, -118.272783</td>\n",
       "      <td>33.964131</td>\n",
       "      <td>-118.272783</td>\n",
       "      <td>Male</td>\n",
       "      <td>No</td>\n",
       "      <td>No</td>\n",
       "      <td>No</td>\n",
       "      <td>2</td>\n",
       "      <td>Yes</td>\n",
       "      <td>No</td>\n",
       "      <td>DSL</td>\n",
       "      <td>Yes</td>\n",
       "      <td>Yes</td>\n",
       "      <td>No</td>\n",
       "      <td>No</td>\n",
       "      <td>No</td>\n",
       "      <td>No</td>\n",
       "      <td>Month-to-month</td>\n",
       "      <td>Yes</td>\n",
       "      <td>Mailed check</td>\n",
       "      <td>53.85</td>\n",
       "      <td>108.15</td>\n",
       "      <td>Yes</td>\n",
       "      <td>1</td>\n",
       "      <td>86</td>\n",
       "      <td>3239</td>\n",
       "      <td>Competitor made better offer</td>\n",
       "      <td>1</td>\n",
       "      <td>Q3</td>\n",
       "      <td>1</td>\n",
       "      <td>Churned</td>\n",
       "      <td>Yes</td>\n",
       "      <td>1</td>\n",
       "      <td>86</td>\n",
       "      <td>3239</td>\n",
       "      <td>Competitor</td>\n",
       "      <td>Competitor made better offer</td>\n",
       "      <td>1</td>\n",
       "      <td>Q3</td>\n",
       "      <td>No</td>\n",
       "      <td>0</td>\n",
       "      <td>2</td>\n",
       "      <td>None</td>\n",
       "      <td>Yes</td>\n",
       "      <td>10.47</td>\n",
       "      <td>No</td>\n",
       "      <td>Yes</td>\n",
       "      <td>DSL</td>\n",
       "      <td>21</td>\n",
       "      <td>Yes</td>\n",
       "      <td>Yes</td>\n",
       "      <td>No</td>\n",
       "      <td>No</td>\n",
       "      <td>No</td>\n",
       "      <td>No</td>\n",
       "      <td>No</td>\n",
       "      <td>Yes</td>\n",
       "      <td>Month-to-Month</td>\n",
       "      <td>Yes</td>\n",
       "      <td>Credit Card</td>\n",
       "      <td>53.85</td>\n",
       "      <td>108.15</td>\n",
       "      <td>0.0</td>\n",
       "      <td>0</td>\n",
       "      <td>20.94</td>\n",
       "      <td>129.09</td>\n",
       "      <td>1</td>\n",
       "      <td>Male</td>\n",
       "      <td>37</td>\n",
       "      <td>No</td>\n",
       "      <td>No</td>\n",
       "      <td>No</td>\n",
       "      <td>No</td>\n",
       "      <td>0</td>\n",
       "    </tr>\n",
       "    <tr>\n",
       "      <th>1</th>\n",
       "      <td>9237-HQITU</td>\n",
       "      <td>1</td>\n",
       "      <td>United States</td>\n",
       "      <td>California</td>\n",
       "      <td>Los Angeles</td>\n",
       "      <td>90005</td>\n",
       "      <td>34.059281, -118.30742</td>\n",
       "      <td>34.059281</td>\n",
       "      <td>-118.307420</td>\n",
       "      <td>Female</td>\n",
       "      <td>No</td>\n",
       "      <td>No</td>\n",
       "      <td>Yes</td>\n",
       "      <td>2</td>\n",
       "      <td>Yes</td>\n",
       "      <td>No</td>\n",
       "      <td>Fiber optic</td>\n",
       "      <td>No</td>\n",
       "      <td>No</td>\n",
       "      <td>No</td>\n",
       "      <td>No</td>\n",
       "      <td>No</td>\n",
       "      <td>No</td>\n",
       "      <td>Month-to-month</td>\n",
       "      <td>Yes</td>\n",
       "      <td>Electronic check</td>\n",
       "      <td>70.70</td>\n",
       "      <td>151.65</td>\n",
       "      <td>Yes</td>\n",
       "      <td>1</td>\n",
       "      <td>67</td>\n",
       "      <td>2701</td>\n",
       "      <td>Moved</td>\n",
       "      <td>1</td>\n",
       "      <td>Q3</td>\n",
       "      <td>2</td>\n",
       "      <td>Churned</td>\n",
       "      <td>Yes</td>\n",
       "      <td>1</td>\n",
       "      <td>67</td>\n",
       "      <td>2701</td>\n",
       "      <td>Other</td>\n",
       "      <td>Moved</td>\n",
       "      <td>1</td>\n",
       "      <td>Q3</td>\n",
       "      <td>No</td>\n",
       "      <td>0</td>\n",
       "      <td>2</td>\n",
       "      <td>None</td>\n",
       "      <td>Yes</td>\n",
       "      <td>9.12</td>\n",
       "      <td>No</td>\n",
       "      <td>Yes</td>\n",
       "      <td>Fiber Optic</td>\n",
       "      <td>51</td>\n",
       "      <td>No</td>\n",
       "      <td>No</td>\n",
       "      <td>No</td>\n",
       "      <td>No</td>\n",
       "      <td>No</td>\n",
       "      <td>No</td>\n",
       "      <td>No</td>\n",
       "      <td>Yes</td>\n",
       "      <td>Month-to-Month</td>\n",
       "      <td>Yes</td>\n",
       "      <td>Bank Withdrawal</td>\n",
       "      <td>70.70</td>\n",
       "      <td>151.65</td>\n",
       "      <td>0.0</td>\n",
       "      <td>0</td>\n",
       "      <td>18.24</td>\n",
       "      <td>169.89</td>\n",
       "      <td>1</td>\n",
       "      <td>Female</td>\n",
       "      <td>19</td>\n",
       "      <td>Yes</td>\n",
       "      <td>No</td>\n",
       "      <td>No</td>\n",
       "      <td>Yes</td>\n",
       "      <td>2</td>\n",
       "    </tr>\n",
       "    <tr>\n",
       "      <th>2</th>\n",
       "      <td>9305-CDSKC</td>\n",
       "      <td>1</td>\n",
       "      <td>United States</td>\n",
       "      <td>California</td>\n",
       "      <td>Los Angeles</td>\n",
       "      <td>90006</td>\n",
       "      <td>34.048013, -118.293953</td>\n",
       "      <td>34.048013</td>\n",
       "      <td>-118.293953</td>\n",
       "      <td>Female</td>\n",
       "      <td>No</td>\n",
       "      <td>No</td>\n",
       "      <td>Yes</td>\n",
       "      <td>8</td>\n",
       "      <td>Yes</td>\n",
       "      <td>Yes</td>\n",
       "      <td>Fiber optic</td>\n",
       "      <td>No</td>\n",
       "      <td>No</td>\n",
       "      <td>Yes</td>\n",
       "      <td>No</td>\n",
       "      <td>Yes</td>\n",
       "      <td>Yes</td>\n",
       "      <td>Month-to-month</td>\n",
       "      <td>Yes</td>\n",
       "      <td>Electronic check</td>\n",
       "      <td>99.65</td>\n",
       "      <td>820.5</td>\n",
       "      <td>Yes</td>\n",
       "      <td>1</td>\n",
       "      <td>86</td>\n",
       "      <td>5372</td>\n",
       "      <td>Moved</td>\n",
       "      <td>1</td>\n",
       "      <td>Q3</td>\n",
       "      <td>3</td>\n",
       "      <td>Churned</td>\n",
       "      <td>Yes</td>\n",
       "      <td>1</td>\n",
       "      <td>86</td>\n",
       "      <td>5372</td>\n",
       "      <td>Other</td>\n",
       "      <td>Moved</td>\n",
       "      <td>1</td>\n",
       "      <td>Q3</td>\n",
       "      <td>No</td>\n",
       "      <td>0</td>\n",
       "      <td>8</td>\n",
       "      <td>None</td>\n",
       "      <td>Yes</td>\n",
       "      <td>12.15</td>\n",
       "      <td>Yes</td>\n",
       "      <td>Yes</td>\n",
       "      <td>Cable</td>\n",
       "      <td>26</td>\n",
       "      <td>No</td>\n",
       "      <td>No</td>\n",
       "      <td>Yes</td>\n",
       "      <td>No</td>\n",
       "      <td>Yes</td>\n",
       "      <td>Yes</td>\n",
       "      <td>Yes</td>\n",
       "      <td>Yes</td>\n",
       "      <td>Month-to-Month</td>\n",
       "      <td>Yes</td>\n",
       "      <td>Bank Withdrawal</td>\n",
       "      <td>99.65</td>\n",
       "      <td>820.50</td>\n",
       "      <td>0.0</td>\n",
       "      <td>0</td>\n",
       "      <td>97.20</td>\n",
       "      <td>917.70</td>\n",
       "      <td>1</td>\n",
       "      <td>Female</td>\n",
       "      <td>31</td>\n",
       "      <td>No</td>\n",
       "      <td>No</td>\n",
       "      <td>No</td>\n",
       "      <td>Yes</td>\n",
       "      <td>2</td>\n",
       "    </tr>\n",
       "    <tr>\n",
       "      <th>3</th>\n",
       "      <td>7892-POOKP</td>\n",
       "      <td>1</td>\n",
       "      <td>United States</td>\n",
       "      <td>California</td>\n",
       "      <td>Los Angeles</td>\n",
       "      <td>90010</td>\n",
       "      <td>34.062125, -118.315709</td>\n",
       "      <td>34.062125</td>\n",
       "      <td>-118.315709</td>\n",
       "      <td>Female</td>\n",
       "      <td>No</td>\n",
       "      <td>Yes</td>\n",
       "      <td>Yes</td>\n",
       "      <td>28</td>\n",
       "      <td>Yes</td>\n",
       "      <td>Yes</td>\n",
       "      <td>Fiber optic</td>\n",
       "      <td>No</td>\n",
       "      <td>No</td>\n",
       "      <td>Yes</td>\n",
       "      <td>Yes</td>\n",
       "      <td>Yes</td>\n",
       "      <td>Yes</td>\n",
       "      <td>Month-to-month</td>\n",
       "      <td>Yes</td>\n",
       "      <td>Electronic check</td>\n",
       "      <td>104.80</td>\n",
       "      <td>3046.05</td>\n",
       "      <td>Yes</td>\n",
       "      <td>1</td>\n",
       "      <td>84</td>\n",
       "      <td>5003</td>\n",
       "      <td>Moved</td>\n",
       "      <td>1</td>\n",
       "      <td>Q3</td>\n",
       "      <td>3</td>\n",
       "      <td>Churned</td>\n",
       "      <td>Yes</td>\n",
       "      <td>1</td>\n",
       "      <td>84</td>\n",
       "      <td>5003</td>\n",
       "      <td>Other</td>\n",
       "      <td>Moved</td>\n",
       "      <td>1</td>\n",
       "      <td>Q3</td>\n",
       "      <td>No</td>\n",
       "      <td>0</td>\n",
       "      <td>28</td>\n",
       "      <td>Offer C</td>\n",
       "      <td>Yes</td>\n",
       "      <td>4.89</td>\n",
       "      <td>Yes</td>\n",
       "      <td>Yes</td>\n",
       "      <td>Fiber Optic</td>\n",
       "      <td>47</td>\n",
       "      <td>No</td>\n",
       "      <td>No</td>\n",
       "      <td>Yes</td>\n",
       "      <td>Yes</td>\n",
       "      <td>Yes</td>\n",
       "      <td>Yes</td>\n",
       "      <td>Yes</td>\n",
       "      <td>Yes</td>\n",
       "      <td>Month-to-Month</td>\n",
       "      <td>Yes</td>\n",
       "      <td>Bank Withdrawal</td>\n",
       "      <td>104.80</td>\n",
       "      <td>3046.05</td>\n",
       "      <td>0.0</td>\n",
       "      <td>0</td>\n",
       "      <td>136.92</td>\n",
       "      <td>3182.97</td>\n",
       "      <td>1</td>\n",
       "      <td>Female</td>\n",
       "      <td>23</td>\n",
       "      <td>Yes</td>\n",
       "      <td>No</td>\n",
       "      <td>Yes</td>\n",
       "      <td>Yes</td>\n",
       "      <td>3</td>\n",
       "    </tr>\n",
       "    <tr>\n",
       "      <th>4</th>\n",
       "      <td>0280-XJGEX</td>\n",
       "      <td>1</td>\n",
       "      <td>United States</td>\n",
       "      <td>California</td>\n",
       "      <td>Los Angeles</td>\n",
       "      <td>90015</td>\n",
       "      <td>34.039224, -118.266293</td>\n",
       "      <td>34.039224</td>\n",
       "      <td>-118.266293</td>\n",
       "      <td>Male</td>\n",
       "      <td>No</td>\n",
       "      <td>No</td>\n",
       "      <td>Yes</td>\n",
       "      <td>49</td>\n",
       "      <td>Yes</td>\n",
       "      <td>Yes</td>\n",
       "      <td>Fiber optic</td>\n",
       "      <td>No</td>\n",
       "      <td>Yes</td>\n",
       "      <td>Yes</td>\n",
       "      <td>No</td>\n",
       "      <td>Yes</td>\n",
       "      <td>Yes</td>\n",
       "      <td>Month-to-month</td>\n",
       "      <td>Yes</td>\n",
       "      <td>Bank transfer (automatic)</td>\n",
       "      <td>103.70</td>\n",
       "      <td>5036.3</td>\n",
       "      <td>Yes</td>\n",
       "      <td>1</td>\n",
       "      <td>89</td>\n",
       "      <td>5340</td>\n",
       "      <td>Competitor had better devices</td>\n",
       "      <td>1</td>\n",
       "      <td>Q3</td>\n",
       "      <td>1</td>\n",
       "      <td>Churned</td>\n",
       "      <td>Yes</td>\n",
       "      <td>1</td>\n",
       "      <td>89</td>\n",
       "      <td>5340</td>\n",
       "      <td>Competitor</td>\n",
       "      <td>Competitor had better devices</td>\n",
       "      <td>1</td>\n",
       "      <td>Q3</td>\n",
       "      <td>No</td>\n",
       "      <td>0</td>\n",
       "      <td>49</td>\n",
       "      <td>None</td>\n",
       "      <td>Yes</td>\n",
       "      <td>44.33</td>\n",
       "      <td>Yes</td>\n",
       "      <td>Yes</td>\n",
       "      <td>Fiber Optic</td>\n",
       "      <td>11</td>\n",
       "      <td>No</td>\n",
       "      <td>Yes</td>\n",
       "      <td>Yes</td>\n",
       "      <td>No</td>\n",
       "      <td>Yes</td>\n",
       "      <td>Yes</td>\n",
       "      <td>Yes</td>\n",
       "      <td>Yes</td>\n",
       "      <td>Month-to-Month</td>\n",
       "      <td>Yes</td>\n",
       "      <td>Bank Withdrawal</td>\n",
       "      <td>103.70</td>\n",
       "      <td>5036.30</td>\n",
       "      <td>0.0</td>\n",
       "      <td>0</td>\n",
       "      <td>2172.17</td>\n",
       "      <td>7208.47</td>\n",
       "      <td>1</td>\n",
       "      <td>Male</td>\n",
       "      <td>38</td>\n",
       "      <td>No</td>\n",
       "      <td>No</td>\n",
       "      <td>No</td>\n",
       "      <td>Yes</td>\n",
       "      <td>1</td>\n",
       "    </tr>\n",
       "  </tbody>\n",
       "</table>\n",
       "</div>"
      ],
      "text/plain": [
       "   CustomerID  Count_x_x        Country       State         City  Zip Code  \\\n",
       "0  3668-QPYBK          1  United States  California  Los Angeles     90003   \n",
       "1  9237-HQITU          1  United States  California  Los Angeles     90005   \n",
       "2  9305-CDSKC          1  United States  California  Los Angeles     90006   \n",
       "3  7892-POOKP          1  United States  California  Los Angeles     90010   \n",
       "4  0280-XJGEX          1  United States  California  Los Angeles     90015   \n",
       "\n",
       "                 Lat Long   Latitude   Longitude Gender_x Senior Citizen_x  \\\n",
       "0  33.964131, -118.272783  33.964131 -118.272783     Male               No   \n",
       "1   34.059281, -118.30742  34.059281 -118.307420   Female               No   \n",
       "2  34.048013, -118.293953  34.048013 -118.293953   Female               No   \n",
       "3  34.062125, -118.315709  34.062125 -118.315709   Female               No   \n",
       "4  34.039224, -118.266293  34.039224 -118.266293     Male               No   \n",
       "\n",
       "  Partner Dependents_x  Tenure Months Phone Service_x Multiple Lines_x  \\\n",
       "0      No           No              2             Yes               No   \n",
       "1      No          Yes              2             Yes               No   \n",
       "2      No          Yes              8             Yes              Yes   \n",
       "3     Yes          Yes             28             Yes              Yes   \n",
       "4      No          Yes             49             Yes              Yes   \n",
       "\n",
       "  Internet Service_x Online Security_x Online Backup_x Device Protection  \\\n",
       "0                DSL               Yes             Yes                No   \n",
       "1        Fiber optic                No              No                No   \n",
       "2        Fiber optic                No              No               Yes   \n",
       "3        Fiber optic                No              No               Yes   \n",
       "4        Fiber optic                No             Yes               Yes   \n",
       "\n",
       "  Tech Support Streaming TV_x Streaming Movies_x      Contract_x  \\\n",
       "0           No             No                 No  Month-to-month   \n",
       "1           No             No                 No  Month-to-month   \n",
       "2           No            Yes                Yes  Month-to-month   \n",
       "3          Yes            Yes                Yes  Month-to-month   \n",
       "4           No            Yes                Yes  Month-to-month   \n",
       "\n",
       "  Paperless Billing_x           Payment Method_x  Monthly Charges  \\\n",
       "0                 Yes               Mailed check            53.85   \n",
       "1                 Yes           Electronic check            70.70   \n",
       "2                 Yes           Electronic check            99.65   \n",
       "3                 Yes           Electronic check           104.80   \n",
       "4                 Yes  Bank transfer (automatic)           103.70   \n",
       "\n",
       "  Total Charges_x Churn Label_x  Churn Value_x  Churn Score_x  CLTV_x  \\\n",
       "0          108.15           Yes              1             86    3239   \n",
       "1          151.65           Yes              1             67    2701   \n",
       "2           820.5           Yes              1             86    5372   \n",
       "3         3046.05           Yes              1             84    5003   \n",
       "4          5036.3           Yes              1             89    5340   \n",
       "\n",
       "                  Churn Reason_x  Count_y_x Quarter_x  Satisfaction Score  \\\n",
       "0   Competitor made better offer          1        Q3                   1   \n",
       "1                          Moved          1        Q3                   2   \n",
       "2                          Moved          1        Q3                   3   \n",
       "3                          Moved          1        Q3                   3   \n",
       "4  Competitor had better devices          1        Q3                   1   \n",
       "\n",
       "  Customer Status Churn Label_y  Churn Value_y  Churn Score_y  CLTV_y  \\\n",
       "0         Churned           Yes              1             86    3239   \n",
       "1         Churned           Yes              1             67    2701   \n",
       "2         Churned           Yes              1             86    5372   \n",
       "3         Churned           Yes              1             84    5003   \n",
       "4         Churned           Yes              1             89    5340   \n",
       "\n",
       "  Churn Category                 Churn Reason_y  Count_x_y Quarter_y  \\\n",
       "0     Competitor   Competitor made better offer          1        Q3   \n",
       "1          Other                          Moved          1        Q3   \n",
       "2          Other                          Moved          1        Q3   \n",
       "3          Other                          Moved          1        Q3   \n",
       "4     Competitor  Competitor had better devices          1        Q3   \n",
       "\n",
       "  Referred a Friend  Number of Referrals  Tenure in Months    Offer  \\\n",
       "0                No                    0                 2     None   \n",
       "1                No                    0                 2     None   \n",
       "2                No                    0                 8     None   \n",
       "3                No                    0                28  Offer C   \n",
       "4                No                    0                49     None   \n",
       "\n",
       "  Phone Service_y  Avg Monthly Long Distance Charges Multiple Lines_y  \\\n",
       "0             Yes                              10.47               No   \n",
       "1             Yes                               9.12               No   \n",
       "2             Yes                              12.15              Yes   \n",
       "3             Yes                               4.89              Yes   \n",
       "4             Yes                              44.33              Yes   \n",
       "\n",
       "  Internet Service_y Internet Type  Avg Monthly GB Download Online Security_y  \\\n",
       "0                Yes           DSL                       21               Yes   \n",
       "1                Yes   Fiber Optic                       51                No   \n",
       "2                Yes         Cable                       26                No   \n",
       "3                Yes   Fiber Optic                       47                No   \n",
       "4                Yes   Fiber Optic                       11                No   \n",
       "\n",
       "  Online Backup_y Device Protection Plan Premium Tech Support Streaming TV_y  \\\n",
       "0             Yes                     No                   No             No   \n",
       "1              No                     No                   No             No   \n",
       "2              No                    Yes                   No            Yes   \n",
       "3              No                    Yes                  Yes            Yes   \n",
       "4             Yes                    Yes                   No            Yes   \n",
       "\n",
       "  Streaming Movies_y Streaming Music Unlimited Data      Contract_y  \\\n",
       "0                 No              No            Yes  Month-to-Month   \n",
       "1                 No              No            Yes  Month-to-Month   \n",
       "2                Yes             Yes            Yes  Month-to-Month   \n",
       "3                Yes             Yes            Yes  Month-to-Month   \n",
       "4                Yes             Yes            Yes  Month-to-Month   \n",
       "\n",
       "  Paperless Billing_y Payment Method_y  Monthly Charge  Total Charges_y  \\\n",
       "0                 Yes      Credit Card           53.85           108.15   \n",
       "1                 Yes  Bank Withdrawal           70.70           151.65   \n",
       "2                 Yes  Bank Withdrawal           99.65           820.50   \n",
       "3                 Yes  Bank Withdrawal          104.80          3046.05   \n",
       "4                 Yes  Bank Withdrawal          103.70          5036.30   \n",
       "\n",
       "   Total Refunds  Total Extra Data Charges  Total Long Distance Charges  \\\n",
       "0            0.0                         0                        20.94   \n",
       "1            0.0                         0                        18.24   \n",
       "2            0.0                         0                        97.20   \n",
       "3            0.0                         0                       136.92   \n",
       "4            0.0                         0                      2172.17   \n",
       "\n",
       "   Total Revenue  Count_y_y Gender_y  Age Under 30 Senior Citizen_y Married  \\\n",
       "0         129.09          1     Male   37       No               No      No   \n",
       "1         169.89          1   Female   19      Yes               No      No   \n",
       "2         917.70          1   Female   31       No               No      No   \n",
       "3        3182.97          1   Female   23      Yes               No     Yes   \n",
       "4        7208.47          1     Male   38       No               No      No   \n",
       "\n",
       "  Dependents_y  Number of Dependents  \n",
       "0           No                     0  \n",
       "1          Yes                     2  \n",
       "2          Yes                     2  \n",
       "3          Yes                     3  \n",
       "4          Yes                     1  "
      ]
     },
     "execution_count": 4,
     "metadata": {},
     "output_type": "execute_result"
    }
   ],
   "source": [
    "customer_df.head()"
   ]
  },
  {
   "cell_type": "markdown",
   "metadata": {},
   "source": [
    "The data that was utilized is the Telco customer churn database from IBM Business Analytics. \n",
    "\n",
    "The Telco customer churn data contains information about a fictional telco company that provided home phone and Internet services to 7043 customers in California in Q3. It indicates which customers have left, stayed, or signed up for their service. Multiple important demographics are included for each customer, as well as a Satisfaction Score, Churn Score, and Customer Lifetime Value (CLTV) index."
   ]
  },
  {
   "cell_type": "code",
   "execution_count": 5,
   "metadata": {},
   "outputs": [],
   "source": [
    "#Cleaning up duplicates \n",
    "customer_df=customer_df.T.drop_duplicates().T\n",
    "customer_df.columns=[column.lower().strip(\"_x\").strip(\"_y\").replace(\" \",\"_\")for column in customer_df.columns] "
   ]
  },
  {
   "cell_type": "code",
   "execution_count": 6,
   "metadata": {},
   "outputs": [],
   "source": [
    "#Removing duplicates that were not caught by the previous function.\n",
    "remove_dup=[\"internet_service\",\"online_securit\",\"online_backup\",\"multiple_lines\",\"streaming_tv\",\"payment_method\",\"total_charges\",\"contract\",\"streaming_movies\",\"churn_reason\"]\n",
    "remove_dups(remove_dup,customer_df)"
   ]
  },
  {
   "cell_type": "code",
   "execution_count": 7,
   "metadata": {},
   "outputs": [],
   "source": [
    "#Dropping Redundant columns\n",
    "customer_df.drop([\"lat_long\",\"customerid\",\"churn_label\",\"count\",\"countr\",\"state\",\"quarter\",],axis=1,inplace=True)"
   ]
  },
  {
   "cell_type": "code",
   "execution_count": 8,
   "metadata": {
    "scrolled": false
   },
   "outputs": [
    {
     "data": {
      "text/plain": [
       "Text(0.5, 0, 'Churnned')"
      ]
     },
     "execution_count": 8,
     "metadata": {},
     "output_type": "execute_result"
    },
    {
     "data": {
      "image/png": "[encoded data removed]",
      "text/plain": [
       "<Figure size 576x360 with 1 Axes>"
      ]
     },
     "metadata": {
      "needs_background": "light"
     },
     "output_type": "display_data"
    }
   ],
   "source": [
    "fig, ax = plt.subplots(figsize=(8,5))\n",
    "a=customer_df[\"churn_value\"].value_counts()\n",
    "sns.set('talk')\n",
    "ax=sns.barplot(x=a.index,y=a.values,palette=\"vlag\",ci=None)\n",
    "ax.set_xticklabels([\"No\",\"Yes\"],rotation=0,fontsize=15)\n",
    "ax.set_title(\"Customer Churn\",fontsize=30)\n",
    "ax.set_ylabel(\"Count\",fontsize=20)\n",
    "ax.set_xlabel(\"Churnned\",fontsize=20)"
   ]
  },
  {
   "cell_type": "markdown",
   "metadata": {},
   "source": [
    "Fist I started by looking at my target variable. I wanted to see what was the amount of customers that have churned and those who have not, or people who left the company and those who stayed. I wanted to see what was the class imbalance in the target variable. \n"
   ]
  },
  {
   "cell_type": "code",
   "execution_count": 9,
   "metadata": {},
   "outputs": [],
   "source": [
    "#Binning age \n",
    "customer_df.age=pd.cut(x=customer_df['age'], bins=[10,20,30,40, 50,60,70,80], labels=[\"10\",\"20\",\"30\",\"40\", \"50\",\"60\",\"70\"])"
   ]
  },
  {
   "cell_type": "code",
   "execution_count": 10,
   "metadata": {
    "scrolled": false
   },
   "outputs": [
    {
     "data": {
      "text/plain": [
       "Text(0, 0.5, 'Customers')"
      ]
     },
     "execution_count": 10,
     "metadata": {},
     "output_type": "execute_result"
    },
    {
     "data": {
      "image/png": "[encoded data removed]",
      "text/plain": [
       "<Figure size 648x432 with 1 Axes>"
      ]
     },
     "metadata": {},
     "output_type": "display_data"
    }
   ],
   "source": [
    "#Plotting each customer age group to get an idea of how many customers there are in each group.\n",
    "a=pd.melt(customer_df[[\"age\",\"latitude\"]].groupby(\"age\").count().T)\n",
    "fig, ax = plt.subplots(figsize=(9,6))\n",
    "ax=sns.barplot(a.age,a.value,palette=\"vlag_r\")\n",
    "ax.set_title(\"Customer Age Count\")\n",
    "ax.set_xlabel(\"Age Group\")\n",
    "ax.set_ylabel(\"Customers\")"
   ]
  },
  {
   "cell_type": "markdown",
   "metadata": {},
   "source": [
    "Next I wanted to get a sense of the customer base, this would give me the indication of what kind of customers we were looking at. The majority of customers seems to be between the ages of 20 -50. Then I focused on how much each group churned. The numbers do keep consistent for each group. But it seems that the gap is much closer for the older demographic since the customers are far less in those categories."
   ]
  },
  {
   "cell_type": "code",
   "execution_count": 11,
   "metadata": {},
   "outputs": [
    {
     "data": {
      "text/plain": [
       "<matplotlib.legend.Legend at 0x7fc1bcd04880>"
      ]
     },
     "execution_count": 11,
     "metadata": {},
     "output_type": "execute_result"
    },
    {
     "data": {
      "image/png": "[encoded data removed]",
      "text/plain": [
       "<Figure size 648x432 with 1 Axes>"
      ]
     },
     "metadata": {},
     "output_type": "display_data"
    }
   ],
   "source": [
    "#Plotting a comparisonm between churned and stayed customers grouped by age.\n",
    "fig, ax = plt.subplots(figsize=(9,6))\n",
    "yes=pd.melt(customer_df[customer_df.churn_value==1][[\"churn_value\",\"age\",\"latitude\"]].groupby([\"age\",\"churn_value\"]).count().T)\n",
    "no=pd.melt(customer_df[customer_df.churn_value==0][[\"churn_value\",\"age\",\"latitude\"]].groupby([\"age\",\"churn_value\"]).count().T)\n",
    "ax=sns.barplot(no.age,no.value,palette=\"vlag_r\",ci=None,label='No')\n",
    "ax=sns.barplot(yes.age,yes.value,color=\"#355C7D\",ci=None)\n",
    "ax.set_xlabel(\"Age Group\")\n",
    "ax.set_ylabel(\"Amount\")\n",
    "ax.set_title(\"Churn Rate by Age\")\n",
    "ax.legend([\"Not Churned\",\"Churned\"])"
   ]
  },
  {
   "cell_type": "code",
   "execution_count": 12,
   "metadata": {},
   "outputs": [],
   "source": [
    "#Cleaning missing values from \"total_charge\" column\n",
    "hold=[]\n",
    "for x in customer_df.index:\n",
    "    if type(customer_df.tel_total_charges[x])== str:\n",
    "        hold.append(0)\n",
    "    else:\n",
    "        hold.append(customer_df.tel_total_charges[x])\n",
    "customer_df.tel_total_chargs=hold\n",
    "#Filling NA values for churn reason\n",
    "customer_df.tel_churn_reason=customer_df.tel_churn_reason.fillna(\"No reason given\")"
   ]
  },
  {
   "cell_type": "markdown",
   "metadata": {},
   "source": [
    "After I wanted to focus on the revenue, since it is important for prepaid companies to maintain their customer base, and I found out that most of the higher revenue came from the older categories. This gives us the idea that since older customers maintain their older plans they tend to pay more. Followed by the older customers, the ages between 20 and 40 maintain a steady amount of revenue."
   ]
  },
  {
   "cell_type": "code",
   "execution_count": 13,
   "metadata": {},
   "outputs": [
    {
     "data": {
      "text/plain": [
       "Text(0.5, 1.0, 'Revenue by Age')"
      ]
     },
     "execution_count": 13,
     "metadata": {},
     "output_type": "execute_result"
    },
    {
     "data": {
      "image/png": "[encoded data removed]",
      "text/plain": [
       "<Figure size 648x432 with 1 Axes>"
      ]
     },
     "metadata": {},
     "output_type": "display_data"
    }
   ],
   "source": [
    "#Plotting how much revenue each age group generates.\n",
    "fig, ax = plt.subplots(figsize=(9,6))\n",
    "ax=sns.boxplot(customer_df.age,customer_df.total_revenue,palette=\"vlag_r\")\n",
    "ax.set_xlabel(\"Age Group\")\n",
    "ax.set_ylabel(\"Revenue in the thousands\")\n",
    "ax.set_title(\"Revenue by Age\")"
   ]
  },
  {
   "cell_type": "code",
   "execution_count": 14,
   "metadata": {},
   "outputs": [],
   "source": [
    "# Reclassifying nan values from Churn Category.\n",
    "conditions=[\n",
    "    (customer_df[\"churn_categor\"].isna())& (customer_df[\"churn_value\"]==0),            \n",
    "    (customer_df[\"churn_categor\"].isna())& (customer_df[\"churn_value\"]==1),\n",
    "]\n",
    "choises=[\n",
    "    \"Not Churned\",\n",
    "    \"No Reason\",\n",
    "\n",
    "]\n",
    "customer_df.churn_categor=np.select(conditions,choises,default=customer_df.churn_categor)"
   ]
  },
  {
   "cell_type": "code",
   "execution_count": 15,
   "metadata": {},
   "outputs": [],
   "source": [
    "# Re categorizing the churn reason for better interpretation.\n",
    "customer_df[\"tel_churn_reason\"]=reason_cleanup(\"tel_churn_reason\",customer_df)"
   ]
  },
  {
   "cell_type": "code",
   "execution_count": 16,
   "metadata": {},
   "outputs": [
    {
     "data": {
      "text/plain": [
       "Text(0.5, 1.0, 'Revenue Loss')"
      ]
     },
     "execution_count": 16,
     "metadata": {},
     "output_type": "execute_result"
    },
    {
     "data": {
      "image/png": "[encoded data removed]",
      "text/plain": [
       "<Figure size 648x432 with 1 Axes>"
      ]
     },
     "metadata": {},
     "output_type": "display_data"
    }
   ],
   "source": [
    "# Plotting the revenue that was lost from the customers that left and why they left. \n",
    "fig, ax = plt.subplots(figsize=(9,6))\n",
    "ax=sns.boxplot(x=customer_df.tel_churn_reason,y=customer_df.total_revenue,palette=\"vlag\")\n",
    "sns.set('talk')\n",
    "ax.set_xticklabels([\"Competition Offer\",\"External Factors\",\"Pricing\",\"Product and services\",\"Customer Satisfaction\",\"Charges and Fees\",\"Unkown\",\"Did Not Churn\"],rotation=75)\n",
    "ax.set_xlabel(\"Reason\")\n",
    "ax.set_ylabel(\"Revenue\")\n",
    "ax.set_title(\"Revenue Loss\")"
   ]
  },
  {
   "cell_type": "markdown",
   "metadata": {},
   "source": [
    "Following the revenue, I wanted to look at the potential revenue lost by those who left. I decided to look at how much each category, based on their reason of leaving, project the most loss for the company. And what stood out is that customers who had issues with pricing of the services had brought the most income to the company and seems that they were unhappy with how much they were paying, since they were the ones who stood out the most aside from the ones who left for a better offer, which we could assume since they have the least revenue lost, are more frugal and look for the best bargains."
   ]
  },
  {
   "cell_type": "code",
   "execution_count": 17,
   "metadata": {},
   "outputs": [],
   "source": [
    "#converting columns into binary\n",
    "col_to_bin=[\"senior_citizen\",\"partner\",\"dependents\",\"phone_service\",\"device_protection\",\"tech_support\",\"paperless_billing\",\"referred_a_friend\",\"device_protection_plan\",\"premium_tech_support\",\"streaming_music\",\"unlimited_data\",\"under_30\",\"tel_internet_service\",\"tel_online_securit\",\"tel_online_backup\",\"tel_multiple_lines\",\"tel_streaming_tv\",\"tel_streaming_movies\"]\n",
    "for x in col_to_bin:\n",
    "    to_binary(x,customer_df)"
   ]
  },
  {
   "cell_type": "code",
   "execution_count": 18,
   "metadata": {},
   "outputs": [],
   "source": [
    "customer_df.drop([\"tel_churn_reason\",\"churn_categor\",\"customer_status\"],axis=1, inplace=True)"
   ]
  },
  {
   "cell_type": "code",
   "execution_count": 19,
   "metadata": {},
   "outputs": [],
   "source": [
    "customer_df=pd.get_dummies(customer_df,columns=[\"cit\",\"zip_code\",\"latitude\",\"longitude\",\"gender\",\"offer\",\"internet_type\",\"age\",\"tel_payment_method\",\"tel_contract\"],drop_first=True)"
   ]
  },
  {
   "cell_type": "code",
   "execution_count": 20,
   "metadata": {},
   "outputs": [],
   "source": [
    "customer_df=customer_df.astype(\"float\")"
   ]
  },
  {
   "cell_type": "markdown",
   "metadata": {},
   "source": [
    "# Modeling"
   ]
  },
  {
   "cell_type": "markdown",
   "metadata": {},
   "source": [
    "Following the EDA I wanted to create a model that could help prevent the customer loss and revenue loss. \n",
    "\n",
    "I wanted to focus on Accuracy since we want to make sure that the model is able to look at the data and predict with great accuracy a customer that might churn. I also looked at F1 for overall model performance and lastly Recall since I still wanted to minimize the total False Positives that might arise and further prevent company's assets being focused on customers who are not going to churn. "
   ]
  },
  {
   "cell_type": "markdown",
   "metadata": {},
   "source": [
    "### Vanilla Model"
   ]
  },
  {
   "cell_type": "markdown",
   "metadata": {},
   "source": [
    "For a Vanilla model, I want to explore a linear regression model. Since a Linear regression is the most basic and simple model to run without any parameter tuning, it can help me get an idea of what features are important using their coefficients. "
   ]
  },
  {
   "cell_type": "code",
   "execution_count": 21,
   "metadata": {},
   "outputs": [],
   "source": [
    "#Splitting the data into X and Y\n",
    "y=customer_df[\"churn_value\"]\n",
    "X=customer_df[customer_df.columns[customer_df.columns!=\"churn_value\"]]"
   ]
  },
  {
   "cell_type": "code",
   "execution_count": 22,
   "metadata": {},
   "outputs": [],
   "source": [
    "X_train,X_test,y_train,y_test=train_test_split(X,y,random_state=2020, test_size=0.2)"
   ]
  },
  {
   "cell_type": "code",
   "execution_count": 23,
   "metadata": {},
   "outputs": [],
   "source": [
    "# Instantiating Logistic Regression with Max Iter of 10000 so the model can reach convergence\n",
    "log_reg=LogisticRegression(max_iter=10000, random_state=40, class_weight=\"balanced\")"
   ]
  },
  {
   "cell_type": "code",
   "execution_count": 24,
   "metadata": {},
   "outputs": [],
   "source": [
    "log_reg.fit(X_train,y_train)\n",
    "\n",
    "log_pred=log_reg.predict(X_test)"
   ]
  },
  {
   "cell_type": "code",
   "execution_count": 25,
   "metadata": {},
   "outputs": [],
   "source": [
    "log_acc=metrics.recall_score(y_test, log_pred)\n",
    "log_rec=metrics.accuracy_score(y_test, log_pred)\n",
    "log_f1=metrics.f1_score(y_test,log_pred)"
   ]
  },
  {
   "cell_type": "code",
   "execution_count": 26,
   "metadata": {},
   "outputs": [
    {
     "name": "stdout",
     "output_type": "stream",
     "text": [
      "Logistic Regression Accuracy: 0.9770773638968482\n",
      "Logistic Regression Recall: 0.9772888573456352\n",
      "Logistic Regression F1: 0.9551820728291317\n"
     ]
    }
   ],
   "source": [
    "print('Logistic Regression Accuracy: {}'.format(log_acc))\n",
    "print('Logistic Regression Recall: {}'.format(log_rec))\n",
    "print('Logistic Regression F1: {}'.format(log_f1))"
   ]
  },
  {
   "cell_type": "markdown",
   "metadata": {},
   "source": [
    "This model gave the best results as the baseline model. Accuracy does have room for improvement and it should be investigated forward using GridSearch. Model iterations can be found in the Modeling Notebook."
   ]
  },
  {
   "cell_type": "markdown",
   "metadata": {},
   "source": [
    "## Final Model"
   ]
  },
  {
   "cell_type": "markdown",
   "metadata": {},
   "source": [
    "I want to compare both Ridge and Lasso as penalties to see if either one is better and RFE. Secondly, Using class weight balanced is used to see if it can bring more variance to the model. I also wanted to see if Warm Start could improve the CV process of the model."
   ]
  },
  {
   "cell_type": "code",
   "execution_count": 27,
   "metadata": {},
   "outputs": [],
   "source": [
    "#Choosing Parameter for the model.\n",
    "params={\n",
    "    \"penalty\":[\"l1\",\"l2\"],\n",
    "    \"class_weight\":[\"balanced\"],\n",
    "    \"max_iter\":range(100,5000,100),\n",
    "    \"warm_start\":[\"True\",\"False\"]   \n",
    "}"
   ]
  },
  {
   "cell_type": "code",
   "execution_count": 28,
   "metadata": {},
   "outputs": [],
   "source": [
    "# using vanilla Logistic Regression model and keeping the Random state for continuity and reproducibility\n",
    "log_reg=LogisticRegression(random_state=40)\n",
    "grid_lg=GridSearchCV(log_reg, params, cv=10, scoring=\"f1\", verbose=1, n_jobs=-1)"
   ]
  },
  {
   "cell_type": "code",
   "execution_count": 29,
   "metadata": {},
   "outputs": [
    {
     "name": "stdout",
     "output_type": "stream",
     "text": [
      "Fitting 10 folds for each of 196 candidates, totalling 1960 fits\n"
     ]
    },
    {
     "name": "stderr",
     "output_type": "stream",
     "text": [
      "[Parallel(n_jobs=-1)]: Using backend LokyBackend with 8 concurrent workers.\n",
      "[Parallel(n_jobs=-1)]: Done  34 tasks      | elapsed:  1.1min\n",
      "[Parallel(n_jobs=-1)]: Done 184 tasks      | elapsed: 13.7min\n",
      "[Parallel(n_jobs=-1)]: Done 434 tasks      | elapsed: 74.8min\n",
      "[Parallel(n_jobs=-1)]: Done 784 tasks      | elapsed: 226.1min\n",
      "[Parallel(n_jobs=-1)]: Done 1234 tasks      | elapsed: 568.0min\n",
      "[Parallel(n_jobs=-1)]: Done 1784 tasks      | elapsed: 1152.9min\n",
      "[Parallel(n_jobs=-1)]: Done 1960 out of 1960 | elapsed: 1396.1min finished\n"
     ]
    },
    {
     "data": {
      "text/plain": [
       "GridSearchCV(cv=10, estimator=LogisticRegression(random_state=40), n_jobs=-1,\n",
       "             param_grid={'class_weight': ['balanced'],\n",
       "                         'max_iter': range(100, 5000, 100),\n",
       "                         'penalty': ['l1', 'l2'],\n",
       "                         'warm_start': ['True', 'False']},\n",
       "             scoring='f1', verbose=1)"
      ]
     },
     "execution_count": 29,
     "metadata": {},
     "output_type": "execute_result"
    }
   ],
   "source": [
    "grid_lg.fit(X_train,y_train)"
   ]
  },
  {
   "cell_type": "code",
   "execution_count": 30,
   "metadata": {},
   "outputs": [
    {
     "name": "stdout",
     "output_type": "stream",
     "text": [
      "Best Gridsearch Score: 0.9608549813367491\n",
      "Best Parameters: {'class_weight': 'balanced', 'max_iter': 2400, 'penalty': 'l2', 'warm_start': 'True'}\n",
      "Best Estimators: LogisticRegression(class_weight='balanced', max_iter=2400, random_state=40,\n",
      "                   warm_start='True')\n"
     ]
    }
   ],
   "source": [
    "print(\"Best Gridsearch Score: {}\".format(grid_lg.best_score_))\n",
    "print(\"Best Parameters: {}\".format(grid_lg.best_params_))\n",
    "print(\"Best Estimators: {}\".format(grid_lg.best_estimator_))"
   ]
  },
  {
   "cell_type": "markdown",
   "metadata": {},
   "source": [
    "It seemed that Ridge was the best at keeping the relevant features for the model to perform optimally. It came as no surprise that balancing the class is the best way to have a model improve. "
   ]
  },
  {
   "cell_type": "code",
   "execution_count": 31,
   "metadata": {},
   "outputs": [],
   "source": [
    "gs_pred=grid_lg.best_estimator_.predict(X_test)"
   ]
  },
  {
   "cell_type": "code",
   "execution_count": 32,
   "metadata": {},
   "outputs": [],
   "source": [
    "gs_acc=metrics.recall_score(y_test, gs_pred)\n",
    "gs_rec=metrics.accuracy_score(y_test, gs_pred)\n",
    "gs_f1=metrics.f1_score(y_test,gs_pred)"
   ]
  },
  {
   "cell_type": "code",
   "execution_count": 33,
   "metadata": {},
   "outputs": [
    {
     "name": "stdout",
     "output_type": "stream",
     "text": [
      "GridSearch Logistic Regression Accuracy: 0.9799426934097422\n",
      "GridSearch Logistic Regression Recall: 0.9758694109297374\n",
      "GridSearch Logistic Regression F1: 0.9526462395543175\n"
     ]
    }
   ],
   "source": [
    "print('GridSearch Logistic Regression Accuracy: {}'.format(gs_acc))\n",
    "print('GridSearch Logistic Regression Recall: {}'.format(gs_rec))\n",
    "print('GridSearch Logistic Regression F1: {}'.format(gs_f1))"
   ]
  },
  {
   "cell_type": "code",
   "execution_count": null,
   "metadata": {},
   "outputs": [],
   "source": []
  },
  {
   "cell_type": "markdown",
   "metadata": {},
   "source": [
    "# Final Results"
   ]
  },
  {
   "cell_type": "markdown",
   "metadata": {},
   "source": [
    "Looking at the final results and interpreting them by looking at a confusion matrix to verify how good was the model at classifying each class and counting my True Positives and False Negatives. I also plotted the odds of the top and bottom coefficients for each feature to be in the positive class and negative class."
   ]
  },
  {
   "cell_type": "code",
   "execution_count": 34,
   "metadata": {},
   "outputs": [
    {
     "data": {
      "image/png": "[encoded data removed]",
      "text/plain": [
       "<Figure size 576x576 with 1 Axes>"
      ]
     },
     "metadata": {},
     "output_type": "display_data"
    }
   ],
   "source": [
    "pred = confusion_matrix(y_test, gs_pred)\n",
    "plt.figure(figsize=(8,8))\n",
    "\n",
    "sns.heatmap(pred.T, square=True, annot=True, fmt='d',cmap=\"PuBu\", cbar=False,\n",
    "            xticklabels=['Stayed', 'Churned'], yticklabels=['Stayed', 'Churned'])\n",
    "sns.set(font_scale=2)\n",
    "plt.xlabel('True Values',fontsize=20)\n",
    "plt.ylabel('Predicted Values',fontsize=20);\n"
   ]
  },
  {
   "cell_type": "code",
   "execution_count": 35,
   "metadata": {},
   "outputs": [],
   "source": [
    "coef=pd.DataFrame(zip(X_train.columns, np.transpose(grid_lg.best_estimator_.coef_[0])), columns=['features', 'coef'])\n",
    "coef.coef=[(np.exp(x))-1 for x in coef.coef]\n",
    "coef=coef.iloc[coef.coef.sort_values().index]\n",
    "coef=pd.concat([coef.iloc[:5],coef.iloc[-5:]]).reset_index(drop=True)"
   ]
  },
  {
   "cell_type": "markdown",
   "metadata": {},
   "source": [
    "Finally I decided to take a look at the coefficients that came out of the GridSearch Logistic Regression model. Since Logistic Regression is calculating by taking using the formula: logit(p)=log(p1−p)=β0+β1x1+...+βxxx, I am able to calculate the odds of a feature being in the positive class by using e^coef-1 when the feature changes by one unit. This could give me an idea of which feature have higher odds on predicting the positive class and negative class."
   ]
  },
  {
   "cell_type": "code",
   "execution_count": 36,
   "metadata": {},
   "outputs": [
    {
     "data": {
      "text/plain": [
       "[]"
      ]
     },
     "execution_count": 36,
     "metadata": {},
     "output_type": "execute_result"
    },
    {
     "data": {
      "image/png": "[encoded data removed]",
      "text/plain": [
       "<Figure size 1080x720 with 1 Axes>"
      ]
     },
     "metadata": {},
     "output_type": "display_data"
    }
   ],
   "source": [
    "plt.figure(figsize=(15,10))\n",
    "sns.set('talk')\n",
    "ax=sns.barplot(x=coef.coef,y=coef.features,orient='h',palette=\"vlag\",ci=None)\n",
    "ax.set_xlabel('Coeficients')\n",
    "ax.set_title('Model Coeficients',fontsize=30)\n",
    "ax.set_ylabel(\"\")\n",
    "ax.set_yticklabels([\"Satisfaction Score\",\"Online Security\",\"Two Year Contract\",\"Number of Referals\",\"One Year Contract\",\"Zipcode 90808\",\"Longitud -118.111335\",\"Age 60\",\"Refer a Friend\",\"Partner\"])\n",
    "ax.plot()\n"
   ]
  },
  {
   "cell_type": "markdown",
   "metadata": {},
   "source": [
    "Viewing at this graph we can see that Satisfaction Score and having a Contract tend to have higher odds on predicting the Negative class as opposed to being Partnered in the company and referring a Friend tend to have higher odds at predicting the positive class."
   ]
  },
  {
   "cell_type": "markdown",
   "metadata": {},
   "source": [
    "# Conclusions"
   ]
  },
  {
   "cell_type": "markdown",
   "metadata": {},
   "source": [
    "In conclusion, in the EDA process, it didn't come as a surprise that customer satisfaction is a key factor in customer retention but what stood out is that, for this company, the majority of revenue loss is from customers who were unhappy with the pricing of services. Also, customers who went with a competitor's best offer could be investigated further to see which products and services is this Telecom company not offering that can be found in its competitors.\n",
    "\n",
    "Using the each feature coefficients showed us that customers who are in contracts are less likely to churn as well as customers who are happy enough with the company and are willing to refer a friend could mean that they are less likely to churn.\n"
   ]
  },
  {
   "cell_type": "markdown",
   "metadata": {},
   "source": [
    "# Further Steps"
   ]
  },
  {
   "cell_type": "markdown",
   "metadata": {},
   "source": [
    "* Improving Model using: Adaboost, Gradient Boost & Clustering\n",
    "\n",
    "* Improve Features using: Feature interactions & Polynomials\n",
    "\n",
    "* Improve EDA by: Exploring Zipcodes, Explore Month to Month Contracts, Explore in depth all Revenue related columns."
   ]
  }
 ],
 "metadata": {
  "kernelspec": {
   "display_name": "Python 3",
   "language": "python",
   "name": "python3"
  },
  "language_info": {
   "codemirror_mode": {
    "name": "ipython",
    "version": 3
   },
   "file_extension": ".py",
   "mimetype": "text/x-python",
   "name": "python",
   "nbconvert_exporter": "python",
   "pygments_lexer": "ipython3",
   "version": "3.8.3"
  }
 },
 "nbformat": 4,
 "nbformat_minor": 4
}
